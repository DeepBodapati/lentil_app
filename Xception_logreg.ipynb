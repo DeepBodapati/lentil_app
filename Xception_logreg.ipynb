{
 "cells": [
  {
   "cell_type": "code",
   "execution_count": 6,
   "metadata": {},
   "outputs": [],
   "source": [
    "%matplotlib inline\n",
    "import numpy as np\n",
    "import pandas as pd\n",
    "from os import listdir, makedirs, walk\n",
    "from os.path import isdir, isfile, join, exists, expanduser\n",
    "from tqdm import tqdm_notebook\n",
    "import datetime\n",
    "from sklearn.metrics import log_loss, accuracy_score\n",
    "from sklearn.linear_model import LogisticRegression"
   ]
  },
  {
   "cell_type": "code",
   "execution_count": 7,
   "metadata": {},
   "outputs": [
    {
     "name": "stdout",
     "output_type": "stream",
     "text": [
      "Classes: 42, Training samples: 1128, Validation samples: 2053\n"
     ]
    }
   ],
   "source": [
    "train_folder      = 'data/train/'\n",
    "valid_folder      = 'data/validation/'\n",
    "\n",
    "bottleneck_features_train_npy = 'bottleneck_features_train.npy'\n",
    "bottleneck_features_valid_npy = 'bottleneck_features_valid.npy'\n",
    "bottleneck_labels_train_npy = 'bottleneck_labels_train.npy'\n",
    "bottleneck_labels_valid_npy = 'bottleneck_labels_valid.npy'\n",
    "\n",
    "classes = [fldr for fldr in listdir(train_folder) if isdir(join(train_folder, fldr))]\n",
    "num_classes = len(classes)\n",
    "train_samples = sum([len(files) for r, d, files in walk(train_folder)])\n",
    "valid_samples = sum([len(files) for r, d, files in walk(valid_folder)])\n",
    "\n",
    "print (\"Classes: {}, Training samples: {}, Validation samples: {}\".format(num_classes, train_samples, valid_samples))"
   ]
  },
  {
   "cell_type": "code",
   "execution_count": null,
   "metadata": {},
   "outputs": [],
   "source": [
    "from keras.preprocessing import image\n",
    "import matplotlib.pyplot as plt\n",
    "from mpl_toolkits.axes_grid1 import ImageGrid\n",
    "%matplotlib inline\n",
    "\n",
    "# options\n",
    "INPUT_SIZE = 299\n",
    "BATCH_SIZE = 16\n",
    "\n",
    "fig = plt.figure(1, figsize=(16, 16))\n",
    "grid = ImageGrid(fig, 111, nrows_ncols=(3, 3), axes_pad=0.05)\n",
    "\n",
    "for i, cls in enumerate(np.random.choice(classes, 9)):\n",
    "    ax = grid[i]\n",
    "    img_file = np.random.choice(listdir(join(train_folder, cls)))\n",
    "    img = image.load_img(join(train_folder, cls, img_file), target_size=(INPUT_SIZE,INPUT_SIZE))\n",
    "    img = image.img_to_array(img)\n",
    "    ax.imshow(img / 255.)\n",
    "    ax.text(10, 200, 'LABEL: %s' % cls, color='k', backgroundcolor='w', alpha=0.8)\n",
    "    ax.axis('off')\n",
    "plt.show()"
   ]
  },
  {
   "cell_type": "markdown",
   "metadata": {},
   "source": [
    "## Adapting [Kaggle log-reg example](https://www.kaggle.com/gaborfodor/dog-breed-pretrained-keras-models-lb-0-3) to use Keras data folder structure"
   ]
  },
  {
   "cell_type": "code",
   "execution_count": 9,
   "metadata": {},
   "outputs": [],
   "source": [
    "from keras.models import Sequential, Model\n",
    "from keras.optimizers import Adam, SGD, RMSprop\n",
    "from keras.layers import Dropout, Flatten, Dense, Input, GlobalAveragePooling2D, BatchNormalization, deserialize\n",
    "from keras.utils import to_categorical\n",
    "from keras.applications import xception\n",
    "from keras.preprocessing.image import ImageDataGenerator, array_to_img"
   ]
  },
  {
   "cell_type": "code",
   "execution_count": 10,
   "metadata": {},
   "outputs": [],
   "source": [
    "# Creating wrapper for input preprocessing from https://nbviewer.jupyter.org/gist/embanner/6149bba89c174af3bfd69537b72bca74 \n",
    "def preprocess_input_xception(x):\n",
    "    \"\"\"Wrapper around keras.applications.xception.preprocess_input()\n",
    "    to make it compatible for use with keras.preprocessing.image.ImageDataGenerator's\n",
    "    `preprocessing_function` argument.\n",
    "    \n",
    "    Parameters\n",
    "    ----------\n",
    "    x : a numpy 3darray (a single image to be preprocessed)\n",
    "    \n",
    "    Note we cannot pass keras.applications.xception.preprocess_input()\n",
    "    directly to to keras.preprocessing.image.ImageDataGenerator's\n",
    "    `preprocessing_function` argument because the former expects a\n",
    "    4D tensor whereas the latter expects a 3D tensor. Hence the\n",
    "    existence of this wrapper.\n",
    "    \n",
    "    Returns a numpy 3darray (the preprocessed image).\n",
    "    \n",
    "    \"\"\"\n",
    "    from keras.applications.xception import preprocess_input\n",
    "    X = np.expand_dims(x, axis=0)\n",
    "    X = preprocess_input(X)\n",
    "    return X[0]"
   ]
  },
  {
   "cell_type": "code",
   "execution_count": 12,
   "metadata": {},
   "outputs": [],
   "source": [
    "base_model = xception.Xception(weights='imagenet', include_top=False, pooling = 'avg')"
   ]
  },
  {
   "cell_type": "code",
   "execution_count": 13,
   "metadata": {},
   "outputs": [
    {
     "name": "stdout",
     "output_type": "stream",
     "text": [
      "Found 1128 images belonging to 42 classes.\n",
      "71/71 [==============================] - 39s 553ms/step\n"
     ]
    }
   ],
   "source": [
    "if not exists(bottleneck_features_train_npy):\n",
    "    # Set up data generator for bottleneck features - only need preprocessing (no augmentation)\n",
    "    datagen = ImageDataGenerator(preprocessing_function=preprocess_input_xception)\n",
    "\n",
    "    # Generate bottleneck features for training data, and accompanying labels\n",
    "    generator = datagen.flow_from_directory(\n",
    "        train_folder,\n",
    "        target_size=(INPUT_SIZE, INPUT_SIZE),\n",
    "        batch_size=BATCH_SIZE,\n",
    "        class_mode='sparse',\n",
    "        shuffle=False)\n",
    "\n",
    "    bottleneck_features_train = base_model.predict_generator(generator, verbose = 1)\n",
    "    np.save(bottleneck_features_train_npy, bottleneck_features_train)\n",
    "\n",
    "    bottleneck_labels_train = to_categorical(generator.classes, num_classes=num_classes)\n",
    "    np.save(bottleneck_labels_train_npy, bottleneck_labels_train)\n",
    "    \n",
    "else:\n",
    "    bottleneck_features_train = np.load(bottleneck_features_train_npy)\n",
    "    bottleneck_labels_train = np.load(bottleneck_labels_train_npy)"
   ]
  },
  {
   "cell_type": "code",
   "execution_count": 20,
   "metadata": {},
   "outputs": [
    {
     "name": "stdout",
     "output_type": "stream",
     "text": [
      "Found 2053 images belonging to 42 classes.\n",
      "129/129 [==============================] - 23s 179ms/step\n"
     ]
    }
   ],
   "source": [
    "if not exists(bottleneck_features_valid_npy):\n",
    "    # Generate bottleneck features for validation data, and accompanying labels\n",
    "    generator = datagen.flow_from_directory(\n",
    "        valid_folder,\n",
    "        target_size=(INPUT_SIZE, INPUT_SIZE),\n",
    "        batch_size=BATCH_SIZE,\n",
    "        class_mode='sparse',\n",
    "        shuffle=False)\n",
    "\n",
    "    bottleneck_features_valid = base_model.predict_generator(generator, verbose = 1)\n",
    "    np.save(bottleneck_features_valid_npy, bottleneck_features_valid)\n",
    "\n",
    "    bottleneck_labels_valid = to_categorical(generator.classes, num_classes=num_classes)\n",
    "    np.save(bottleneck_labels_valid_npy, bottleneck_labels_valid)\n",
    "\n",
    "else:\n",
    "    bottleneck_features_valid = np.load(bottleneck_features_valid_npy)\n",
    "    bottleneck_labels_valid = np.load(bottleneck_labels_valid_npy)    "
   ]
  },
  {
   "cell_type": "code",
   "execution_count": 22,
   "metadata": {},
   "outputs": [
    {
     "name": "stdout",
     "output_type": "stream",
     "text": [
      "Validation Xception LogLoss 2.0249956299062974\n",
      "Validation Xception Accuracy 0.44568923526546517\n"
     ]
    }
   ],
   "source": [
    "logreg = LogisticRegression(multi_class='multinomial', solver='lbfgs')\n",
    "logreg.fit(bottleneck_features_train, (bottleneck_labels_train * range(num_classes)).sum(axis=1))\n",
    "valid_probs = logreg.predict_proba(bottleneck_features_valid)\n",
    "valid_preds = logreg.predict(bottleneck_features_valid)\n",
    "print('Validation Xception LogLoss {}'.format(log_loss(bottleneck_labels_valid, valid_probs)))\n",
    "print('Validation Xception Accuracy {}'.format(accuracy_score((bottleneck_labels_valid * range(num_classes)).sum(axis=1), valid_preds)))"
   ]
  }
 ],
 "metadata": {
  "kernelspec": {
   "display_name": "tensorflow_p36",
   "language": "python",
   "name": "tensorflow_p36"
  },
  "language_info": {
   "codemirror_mode": {
    "name": "ipython",
    "version": 3
   },
   "file_extension": ".py",
   "mimetype": "text/x-python",
   "name": "python",
   "nbconvert_exporter": "python",
   "pygments_lexer": "ipython3",
   "version": "3.6.4"
  }
 },
 "nbformat": 4,
 "nbformat_minor": 2
}
