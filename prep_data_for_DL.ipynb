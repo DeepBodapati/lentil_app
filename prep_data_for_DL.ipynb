{
 "cells": [
  {
   "cell_type": "markdown",
   "metadata": {},
   "source": [
    "# Prepare data from labels.csv -> subdirectories for Keras\n",
    "\n",
    "Convert from training images in a single directory with an accompanying labels.csv (see \"Dog Breeds\" Kaggle competition) to folder structure necessary for Keras data generators."
   ]
  },
  {
   "cell_type": "code",
   "execution_count": 43,
   "metadata": {
    "scrolled": true
   },
   "outputs": [],
   "source": [
    "import numpy as np\n",
    "import pandas as pd\n",
    "import matplotlib.pyplot as plt\n",
    "from mpl_toolkits.axes_grid1 import ImageGrid\n",
    "import os\n",
    "from tqdm import tqdm, tqdm_notebook"
   ]
  },
  {
   "cell_type": "code",
   "execution_count": 44,
   "metadata": {
    "scrolled": true
   },
   "outputs": [],
   "source": [
    "from subprocess import check_output\n",
    "src_folder        = 'kaggle/train/'\n",
    "labels_loc        = 'kaggle/labels.csv'\n",
    "ext = '.jpg'"
   ]
  },
  {
   "cell_type": "markdown",
   "metadata": {},
   "source": [
    "### Prep for **development** or **actual training**??\n",
    "\n",
    "To prep only limited categories for **development**, make limit_categories=N (not 0), and set new values for train_folder and validation_folder"
   ]
  },
  {
   "cell_type": "code",
   "execution_count": 45,
   "metadata": {},
   "outputs": [],
   "source": [
    "limit_categories = 16\n",
    "# limit_categories = 0\n",
    "train_folder      = 'devel/data/train'\n",
    "validation_folder = 'devel/data/validation'\n",
    "# train_folder      = 'data/train'\n",
    "# validation_folder = 'data/validation'\n",
    "limit_train_samples = 5\n",
    "limit_valid_samples = 2"
   ]
  },
  {
   "cell_type": "code",
   "execution_count": 46,
   "metadata": {},
   "outputs": [],
   "source": [
    "validation_split = 0.2\n",
    "\n",
    "# Create train folder\n",
    "if not os.path.exists(train_folder):\n",
    "    os.makedirs(train_folder)\n",
    "# Create validation folder\n",
    "if not os.path.exists(validation_folder):\n",
    "    os.makedirs(validation_folder)"
   ]
  },
  {
   "cell_type": "code",
   "execution_count": 47,
   "metadata": {
    "scrolled": true
   },
   "outputs": [
    {
     "data": {
      "application/vnd.jupyter.widget-view+json": {
       "model_id": "a6ea78a93603447388ec596cf42f0e1c",
       "version_major": 2,
       "version_minor": 0
      },
      "text/html": [
       "<p>Failed to display Jupyter Widget of type <code>HBox</code>.</p>\n",
       "<p>\n",
       "  If you're reading this message in the Jupyter Notebook or JupyterLab Notebook, it may mean\n",
       "  that the widgets JavaScript is still loading. If this message persists, it\n",
       "  likely means that the widgets JavaScript library is either not installed or\n",
       "  not enabled. See the <a href=\"https://ipywidgets.readthedocs.io/en/stable/user_install.html\">Jupyter\n",
       "  Widgets Documentation</a> for setup instructions.\n",
       "</p>\n",
       "<p>\n",
       "  If you're reading this message in another frontend (for example, a static\n",
       "  rendering on GitHub or <a href=\"https://nbviewer.jupyter.org/\">NBViewer</a>),\n",
       "  it may mean that your frontend doesn't currently support widgets.\n",
       "</p>\n"
      ],
      "text/plain": [
       "HBox(children=(IntProgress(value=0, max=16), HTML(value='')))"
      ]
     },
     "metadata": {},
     "output_type": "display_data"
    },
    {
     "name": "stdout",
     "output_type": "stream",
     "text": [
      "\n"
     ]
    }
   ],
   "source": [
    "import random\n",
    "\n",
    "# Create categories folders\n",
    "labels = pd.read_csv(labels_loc)\n",
    "categories = list(labels.groupby('breed').count().index)\n",
    "if limit_categories: \n",
    "    categories = np.random.choice(categories, limit_categories, replace=False)\n",
    "\n",
    "for category in tqdm_notebook(categories):\n",
    "    if not os.path.exists(os.path.join(train_folder, str(category))):\n",
    "        os.makedirs(os.path.join(train_folder, str(category)))\n",
    "    if not os.path.exists(os.path.join(validation_folder, str(category))):\n",
    "        os.mkdir(os.path.join(validation_folder, str(category)))"
   ]
  },
  {
   "cell_type": "code",
   "execution_count": 48,
   "metadata": {
    "scrolled": false
   },
   "outputs": [],
   "source": [
    "# 80% = train data \n",
    "SEED=2018\n",
    "np.random.seed(seed=SEED)\n",
    "rnd = np.random.random(len(labels))\n",
    "train_idx = rnd < (1-validation_split)\n",
    "valid_idx = rnd >= (1-validation_split)"
   ]
  },
  {
   "cell_type": "markdown",
   "metadata": {},
   "source": [
    "## NOTE: After running the cell below, no coming back - the files are moved. "
   ]
  },
  {
   "cell_type": "code",
   "execution_count": 49,
   "metadata": {
    "scrolled": true
   },
   "outputs": [
    {
     "name": "stdout",
     "output_type": "stream",
     "text": [
      "BEFORE: \n",
      " Src: 10222 files, Train: 0 files, Validation: 0 files\n"
     ]
    },
    {
     "data": {
      "application/vnd.jupyter.widget-view+json": {
       "model_id": "2c7a5cb3240a46808d7c20543a55f289",
       "version_major": 2,
       "version_minor": 0
      },
      "text/html": [
       "<p>Failed to display Jupyter Widget of type <code>HBox</code>.</p>\n",
       "<p>\n",
       "  If you're reading this message in the Jupyter Notebook or JupyterLab Notebook, it may mean\n",
       "  that the widgets JavaScript is still loading. If this message persists, it\n",
       "  likely means that the widgets JavaScript library is either not installed or\n",
       "  not enabled. See the <a href=\"https://ipywidgets.readthedocs.io/en/stable/user_install.html\">Jupyter\n",
       "  Widgets Documentation</a> for setup instructions.\n",
       "</p>\n",
       "<p>\n",
       "  If you're reading this message in another frontend (for example, a static\n",
       "  rendering on GitHub or <a href=\"https://nbviewer.jupyter.org/\">NBViewer</a>),\n",
       "  it may mean that your frontend doesn't currently support widgets.\n",
       "</p>\n"
      ],
      "text/plain": [
       "HBox(children=(IntProgress(value=0, max=10222), HTML(value='')))"
      ]
     },
     "metadata": {},
     "output_type": "display_data"
    },
    {
     "name": "stdout",
     "output_type": "stream",
     "text": [
      "\n",
      "AFTER: \n",
      " Src: 10110 files, Train: 80 files, Validation: 32 files\n"
     ]
    }
   ],
   "source": [
    "print (\"BEFORE: \\n Src: {} files, Train: {} files, Validation: {} files\".format(\n",
    "    sum([len(files) for r, d, files in os.walk(src_folder)]), \n",
    "    sum([len(files) for r, d, files in os.walk(train_folder)]), \n",
    "    sum([len(files) for r, d, files in os.walk(validation_folder)]))\n",
    "      )\n",
    "\n",
    "if limit_categories:\n",
    "    category_train_count = dict()\n",
    "    category_valid_count = dict()\n",
    "\n",
    "for i, row in tqdm_notebook(enumerate(labels.itertuples()), total=len(labels)):\n",
    "    if limit_categories:\n",
    "        if row.breed in categories:\n",
    "            if train_idx[i]:\n",
    "                if row.breed in category_train_count:\n",
    "                    if category_train_count[row.breed] < limit_train_samples:\n",
    "                        os.rename(os.path.join(src_folder, str(row.id)+ext), os.path.join(train_folder, row.breed, str(row.id)+ext))\n",
    "                        category_train_count[row.breed] += 1\n",
    "                else:\n",
    "                    category_train_count[row.breed] = 1\n",
    "                    os.rename(os.path.join(src_folder, str(row.id)+ext), os.path.join(train_folder, row.breed, str(row.id)+ext))\n",
    "            else:\n",
    "                if row.breed in category_valid_count:\n",
    "                    if category_valid_count[row.breed] < limit_valid_samples:\n",
    "                        os.rename(os.path.join(src_folder, str(row.id)+ext), os.path.join(validation_folder, row.breed, str(row.id)+ext))\n",
    "                        category_valid_count[row.breed] += 1\n",
    "                else:\n",
    "                    category_valid_count[row.breed] = 1\n",
    "                    os.rename(os.path.join(src_folder, str(row.id)+ext), os.path.join(validation_folder, row.breed, str(row.id)+ext))\n",
    "\n",
    "    else:\n",
    "        if train_idx[i]:\n",
    "            os.rename(os.path.join(src_folder, str(row.id)+ext), os.path.join(train_folder, row.breed, str(row.id)+ext))\n",
    "        else:\n",
    "            os.rename(os.path.join(src_folder, str(row.id)+ext), os.path.join(validation_folder, row.breed, str(row.id)+ext))\n",
    "        \n",
    "print (\"AFTER: \\n Src: {} files, Train: {} files, Validation: {} files\".format(\n",
    "    sum([len(files) for r, d, files in os.walk(src_folder)]), \n",
    "    sum([len(files) for r, d, files in os.walk(train_folder)]), \n",
    "    sum([len(files) for r, d, files in os.walk(validation_folder)]))\n",
    "      )"
   ]
  },
  {
   "cell_type": "code",
   "execution_count": null,
   "metadata": {},
   "outputs": [],
   "source": []
  }
 ],
 "metadata": {
  "kernelspec": {
   "display_name": "tensorflow_p36",
   "language": "python",
   "name": "tensorflow_p36"
  },
  "language_info": {
   "codemirror_mode": {
    "name": "ipython",
    "version": 3
   },
   "file_extension": ".py",
   "mimetype": "text/x-python",
   "name": "python",
   "nbconvert_exporter": "python",
   "pygments_lexer": "ipython3",
   "version": "3.6.4"
  }
 },
 "nbformat": 4,
 "nbformat_minor": 2
}
