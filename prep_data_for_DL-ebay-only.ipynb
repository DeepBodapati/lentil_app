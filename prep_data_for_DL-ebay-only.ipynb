{
 "cells": [
  {
   "cell_type": "markdown",
   "metadata": {},
   "source": [
    "# Prepare data\n",
    "\n",
    "This will take imgs from ebay (more than 10 imgs per class), and split them into 8 for training and 2 for validation."
   ]
  },
  {
   "cell_type": "code",
   "execution_count": 1,
   "metadata": {
    "scrolled": true
   },
   "outputs": [],
   "source": [
    "import numpy as np\n",
    "import pandas as pd\n",
    "import os, shutil, random\n",
    "from tqdm import tqdm, tqdm_notebook"
   ]
  },
  {
   "cell_type": "code",
   "execution_count": 2,
   "metadata": {
    "scrolled": true
   },
   "outputs": [],
   "source": [
    "from subprocess import check_output\n",
    "src_folder        = 'imgs/src'\n",
    "train_folder      = 'data/train'\n",
    "valid_folder = 'data/validation'\n",
    "test_folder = 'imgs/test'\n",
    "train_valid_ratio = 0.8\n",
    "ext = '.jpg'\n",
    "\n",
    "if not os.path.exists(train_folder):\n",
    "    os.makedirs(train_folder)\n",
    "    \n",
    "if not os.path.exists(valid_folder):\n",
    "    os.makedirs(valid_folder)    "
   ]
  },
  {
   "cell_type": "code",
   "execution_count": 3,
   "metadata": {},
   "outputs": [],
   "source": [
    "categories = [c for c in os.listdir(src_folder) if os.path.isdir(os.path.join(src_folder, c))]"
   ]
  },
  {
   "cell_type": "code",
   "execution_count": 4,
   "metadata": {},
   "outputs": [
    {
     "name": "stdout",
     "output_type": "stream",
     "text": [
      "BEFORE: \n",
      " Src: 1172 files, Train: 0 files, Validation: 0 files, Test: 116 files\n"
     ]
    }
   ],
   "source": [
    "print (\"BEFORE: \\n Src: {} files, Train: {} files, Validation: {} files, Test: {} files\".format(\n",
    "    sum([len(files) for r, d, files in os.walk(src_folder)]),\n",
    "    sum([len(files) for r, d, files in os.walk(train_folder)]),\n",
    "    sum([len(files) for r, d, files in os.walk(valid_folder)]),\n",
    "    sum([len(files) for r, d, files in os.walk(test_folder)]))\n",
    "      )"
   ]
  },
  {
   "cell_type": "markdown",
   "metadata": {},
   "source": [
    "## NOTE: After running the cell below, no coming back - the files are moved. "
   ]
  },
  {
   "cell_type": "code",
   "execution_count": 5,
   "metadata": {
    "scrolled": false
   },
   "outputs": [
    {
     "data": {
      "application/vnd.jupyter.widget-view+json": {
       "model_id": "272744d754fe461cb949d486d99c2631",
       "version_major": 2,
       "version_minor": 0
      },
      "text/html": [
       "<p>Failed to display Jupyter Widget of type <code>HBox</code>.</p>\n",
       "<p>\n",
       "  If you're reading this message in the Jupyter Notebook or JupyterLab Notebook, it may mean\n",
       "  that the widgets JavaScript is still loading. If this message persists, it\n",
       "  likely means that the widgets JavaScript library is either not installed or\n",
       "  not enabled. See the <a href=\"https://ipywidgets.readthedocs.io/en/stable/user_install.html\">Jupyter\n",
       "  Widgets Documentation</a> for setup instructions.\n",
       "</p>\n",
       "<p>\n",
       "  If you're reading this message in another frontend (for example, a static\n",
       "  rendering on GitHub or <a href=\"https://nbviewer.jupyter.org/\">NBViewer</a>),\n",
       "  it may mean that your frontend doesn't currently support widgets.\n",
       "</p>\n"
      ],
      "text/plain": [
       "HBox(children=(IntProgress(value=0, max=21), HTML(value='')))"
      ]
     },
     "metadata": {},
     "output_type": "display_data"
    },
    {
     "name": "stdout",
     "output_type": "stream",
     "text": [
      "Category: kid_ring_stacker\n",
      "Category: kid_zoo_puzzle\n",
      "Category: kid_zoo_sing-along\n",
      "Category: kid_mobile_phone\n",
      "Category: VTech_Go_Go_Smart_Wheels_Fire_Command_Rescue_Center\n",
      "Category: LeapFrog_LeapStart_Interactive_Learning_System\n",
      "Category: LeapFrog_Learn_Groove_Musical_Table\n",
      "Category: kid_whiteboard_chalkboard\n",
      "Category: VTech_Sit-to-Stand_Learning_Walker\n",
      "Category: kid_bounceroo\n",
      "Category: VTech_Alphabet_Apple\n",
      "Category: LeapFrog_Shapes_Sharing_Picnic_Basket\n",
      "Category: Fisher-Price_Kick_and_Play_Piano_Gym\n",
      "Category: Paw_Patrol_Jungle_Rescue_Paw_Terrain_Vehicle\n",
      "Category: Baby_Einstein_Sea_Dreams_Soother\n",
      "Category: kid_pink_unicorn\n",
      "Category: VTech_Disney_Minnie_ABC_Fashion_Purse\n",
      "Category: Radio_Flyer_Fold_2_Go_Trike\n",
      "Category: VTech_Kidizoom_Smartwatch_DX2\n",
      "Category: Fisher-Price_Auto_Rock_n_Play_Sleeper\n",
      "Category: kid_shopping_cart\n",
      "\n"
     ]
    }
   ],
   "source": [
    "for category in tqdm_notebook(categories, total=len(categories)):\n",
    "    print ('Category: {}'.format(category))\n",
    "    src_cat_dir = os.path.join(src_folder, str(category))\n",
    "    train_cat_dir = os.path.join(train_folder, str(category))\n",
    "    valid_cat_dir = os.path.join(valid_folder, str(category))\n",
    "    test_cat_dir = os.path.join(test_folder, str(category))\n",
    "    \n",
    "    # create category directory in train/\n",
    "    if not os.path.exists(train_cat_dir):\n",
    "        os.makedirs(train_cat_dir)\n",
    "    \n",
    "    # create category directory in valid/\n",
    "    if not os.path.exists(valid_cat_dir):\n",
    "        os.makedirs(valid_cat_dir)\n",
    "\n",
    "    # then move files from src to train/ and valid/\n",
    "    files = [f for f in os.listdir(src_cat_dir) if os.path.isfile(os.path.join(src_cat_dir, f))]\n",
    "    random.shuffle(files)\n",
    "    for i, file in enumerate(files):\n",
    "        if i < train_valid_ratio * len(files):\n",
    "            shutil.copy(os.path.join(src_cat_dir, file), os.path.join(train_cat_dir, file))\n",
    "        else:\n",
    "            shutil.copy(os.path.join(src_cat_dir, file), os.path.join(valid_cat_dir, file))\n",
    "            \n",
    "    # finally, if there are any test images for this category, move them to validation folder as well\n",
    "    if os.path.exists(test_cat_dir):\n",
    "        files = [f for f in os.listdir(test_cat_dir) if os.path.isfile(os.path.join(test_cat_dir, f))]\n",
    "        for file in files:\n",
    "            shutil.copy(os.path.join(test_cat_dir, file), os.path.join(valid_cat_dir, file))"
   ]
  },
  {
   "cell_type": "code",
   "execution_count": 6,
   "metadata": {},
   "outputs": [
    {
     "name": "stdout",
     "output_type": "stream",
     "text": [
      "AFTER: \n",
      " Src: 1172 files, Train: 947 files, Validation: 341 files\n"
     ]
    }
   ],
   "source": [
    "print (\"AFTER: \\n Src: {} files, Train: {} files, Validation: {} files\".format(\n",
    "    sum([len(files) for r, d, files in os.walk(src_folder)]), \n",
    "    sum([len(files) for r, d, files in os.walk(train_folder)]), \n",
    "    sum([len(files) for r, d, files in os.walk(valid_folder)]))\n",
    "      )"
   ]
  },
  {
   "cell_type": "code",
   "execution_count": 7,
   "metadata": {},
   "outputs": [
    {
     "data": {
      "application/vnd.jupyter.widget-view+json": {
       "model_id": "2c6d9d2de86649be968b9f9e0d17e463",
       "version_major": 2,
       "version_minor": 0
      },
      "text/html": [
       "<p>Failed to display Jupyter Widget of type <code>HBox</code>.</p>\n",
       "<p>\n",
       "  If you're reading this message in the Jupyter Notebook or JupyterLab Notebook, it may mean\n",
       "  that the widgets JavaScript is still loading. If this message persists, it\n",
       "  likely means that the widgets JavaScript library is either not installed or\n",
       "  not enabled. See the <a href=\"https://ipywidgets.readthedocs.io/en/stable/user_install.html\">Jupyter\n",
       "  Widgets Documentation</a> for setup instructions.\n",
       "</p>\n",
       "<p>\n",
       "  If you're reading this message in another frontend (for example, a static\n",
       "  rendering on GitHub or <a href=\"https://nbviewer.jupyter.org/\">NBViewer</a>),\n",
       "  it may mean that your frontend doesn't currently support widgets.\n",
       "</p>\n"
      ],
      "text/plain": [
       "HBox(children=(IntProgress(value=0, max=21), HTML(value='')))"
      ]
     },
     "metadata": {},
     "output_type": "display_data"
    },
    {
     "name": "stdout",
     "output_type": "stream",
     "text": [
      "\n"
     ]
    }
   ],
   "source": [
    "df = pd.DataFrame(index=categories)\n",
    "for category in tqdm_notebook(categories, total=len(categories)):\n",
    "    df.loc[category, 'train'] = len(os.listdir(os.path.join(train_folder, str(category))))\n",
    "    df.loc[category, 'valid'] = len(os.listdir(os.path.join(valid_folder, str(category))))"
   ]
  },
  {
   "cell_type": "code",
   "execution_count": 17,
   "metadata": {},
   "outputs": [
    {
     "data": {
      "text/html": [
       "<div>\n",
       "<style scoped>\n",
       "    .dataframe tbody tr th:only-of-type {\n",
       "        vertical-align: middle;\n",
       "    }\n",
       "\n",
       "    .dataframe tbody tr th {\n",
       "        vertical-align: top;\n",
       "    }\n",
       "\n",
       "    .dataframe thead th {\n",
       "        text-align: right;\n",
       "    }\n",
       "</style>\n",
       "<table border=\"1\" class=\"dataframe\">\n",
       "  <thead>\n",
       "    <tr style=\"text-align: right;\">\n",
       "      <th></th>\n",
       "      <th>train</th>\n",
       "      <th>valid</th>\n",
       "    </tr>\n",
       "  </thead>\n",
       "  <tbody>\n",
       "    <tr>\n",
       "      <th>kid_ring_stacker</th>\n",
       "      <td>13.0</td>\n",
       "      <td>3.0</td>\n",
       "    </tr>\n",
       "    <tr>\n",
       "      <th>kid_zoo_puzzle</th>\n",
       "      <td>15.0</td>\n",
       "      <td>3.0</td>\n",
       "    </tr>\n",
       "    <tr>\n",
       "      <th>kid_zoo_sing-along</th>\n",
       "      <td>16.0</td>\n",
       "      <td>4.0</td>\n",
       "    </tr>\n",
       "    <tr>\n",
       "      <th>kid_mobile_phone</th>\n",
       "      <td>13.0</td>\n",
       "      <td>3.0</td>\n",
       "    </tr>\n",
       "    <tr>\n",
       "      <th>VTech_Go_Go_Smart_Wheels_Fire_Command_Rescue_Center</th>\n",
       "      <td>26.0</td>\n",
       "      <td>6.0</td>\n",
       "    </tr>\n",
       "    <tr>\n",
       "      <th>LeapFrog_LeapStart_Interactive_Learning_System</th>\n",
       "      <td>31.0</td>\n",
       "      <td>7.0</td>\n",
       "    </tr>\n",
       "    <tr>\n",
       "      <th>LeapFrog_Learn_Groove_Musical_Table</th>\n",
       "      <td>50.0</td>\n",
       "      <td>42.0</td>\n",
       "    </tr>\n",
       "    <tr>\n",
       "      <th>kid_whiteboard_chalkboard</th>\n",
       "      <td>22.0</td>\n",
       "      <td>5.0</td>\n",
       "    </tr>\n",
       "    <tr>\n",
       "      <th>VTech_Sit-to-Stand_Learning_Walker</th>\n",
       "      <td>84.0</td>\n",
       "      <td>20.0</td>\n",
       "    </tr>\n",
       "    <tr>\n",
       "      <th>kid_bounceroo</th>\n",
       "      <td>30.0</td>\n",
       "      <td>7.0</td>\n",
       "    </tr>\n",
       "    <tr>\n",
       "      <th>VTech_Alphabet_Apple</th>\n",
       "      <td>190.0</td>\n",
       "      <td>47.0</td>\n",
       "    </tr>\n",
       "    <tr>\n",
       "      <th>LeapFrog_Shapes_Sharing_Picnic_Basket</th>\n",
       "      <td>94.0</td>\n",
       "      <td>51.0</td>\n",
       "    </tr>\n",
       "    <tr>\n",
       "      <th>Fisher-Price_Kick_and_Play_Piano_Gym</th>\n",
       "      <td>77.0</td>\n",
       "      <td>43.0</td>\n",
       "    </tr>\n",
       "    <tr>\n",
       "      <th>Paw_Patrol_Jungle_Rescue_Paw_Terrain_Vehicle</th>\n",
       "      <td>28.0</td>\n",
       "      <td>6.0</td>\n",
       "    </tr>\n",
       "    <tr>\n",
       "      <th>Baby_Einstein_Sea_Dreams_Soother</th>\n",
       "      <td>104.0</td>\n",
       "      <td>25.0</td>\n",
       "    </tr>\n",
       "    <tr>\n",
       "      <th>kid_pink_unicorn</th>\n",
       "      <td>13.0</td>\n",
       "      <td>3.0</td>\n",
       "    </tr>\n",
       "    <tr>\n",
       "      <th>VTech_Disney_Minnie_ABC_Fashion_Purse</th>\n",
       "      <td>15.0</td>\n",
       "      <td>3.0</td>\n",
       "    </tr>\n",
       "    <tr>\n",
       "      <th>Radio_Flyer_Fold_2_Go_Trike</th>\n",
       "      <td>42.0</td>\n",
       "      <td>10.0</td>\n",
       "    </tr>\n",
       "    <tr>\n",
       "      <th>VTech_Kidizoom_Smartwatch_DX2</th>\n",
       "      <td>33.0</td>\n",
       "      <td>8.0</td>\n",
       "    </tr>\n",
       "    <tr>\n",
       "      <th>Fisher-Price_Auto_Rock_n_Play_Sleeper</th>\n",
       "      <td>27.0</td>\n",
       "      <td>40.0</td>\n",
       "    </tr>\n",
       "    <tr>\n",
       "      <th>kid_shopping_cart</th>\n",
       "      <td>24.0</td>\n",
       "      <td>5.0</td>\n",
       "    </tr>\n",
       "  </tbody>\n",
       "</table>\n",
       "</div>"
      ],
      "text/plain": [
       "                                                    train  valid\n",
       "kid_ring_stacker                                     13.0    3.0\n",
       "kid_zoo_puzzle                                       15.0    3.0\n",
       "kid_zoo_sing-along                                   16.0    4.0\n",
       "kid_mobile_phone                                     13.0    3.0\n",
       "VTech_Go_Go_Smart_Wheels_Fire_Command_Rescue_Ce...   26.0    6.0\n",
       "LeapFrog_LeapStart_Interactive_Learning_System       31.0    7.0\n",
       "LeapFrog_Learn_Groove_Musical_Table                  50.0   42.0\n",
       "kid_whiteboard_chalkboard                            22.0    5.0\n",
       "VTech_Sit-to-Stand_Learning_Walker                   84.0   20.0\n",
       "kid_bounceroo                                        30.0    7.0\n",
       "VTech_Alphabet_Apple                                190.0   47.0\n",
       "LeapFrog_Shapes_Sharing_Picnic_Basket                94.0   51.0\n",
       "Fisher-Price_Kick_and_Play_Piano_Gym                 77.0   43.0\n",
       "Paw_Patrol_Jungle_Rescue_Paw_Terrain_Vehicle         28.0    6.0\n",
       "Baby_Einstein_Sea_Dreams_Soother                    104.0   25.0\n",
       "kid_pink_unicorn                                     13.0    3.0\n",
       "VTech_Disney_Minnie_ABC_Fashion_Purse                15.0    3.0\n",
       "Radio_Flyer_Fold_2_Go_Trike                          42.0   10.0\n",
       "VTech_Kidizoom_Smartwatch_DX2                        33.0    8.0\n",
       "Fisher-Price_Auto_Rock_n_Play_Sleeper                27.0   40.0\n",
       "kid_shopping_cart                                    24.0    5.0"
      ]
     },
     "execution_count": 17,
     "metadata": {},
     "output_type": "execute_result"
    }
   ],
   "source": [
    "df"
   ]
  },
  {
   "cell_type": "code",
   "execution_count": null,
   "metadata": {},
   "outputs": [],
   "source": []
  }
 ],
 "metadata": {
  "kernelspec": {
   "display_name": "tensorflow_p36",
   "language": "python",
   "name": "tensorflow_p36"
  },
  "language_info": {
   "codemirror_mode": {
    "name": "ipython",
    "version": 3
   },
   "file_extension": ".py",
   "mimetype": "text/x-python",
   "name": "python",
   "nbconvert_exporter": "python",
   "pygments_lexer": "ipython3",
   "version": "3.6.4"
  }
 },
 "nbformat": 4,
 "nbformat_minor": 2
}
