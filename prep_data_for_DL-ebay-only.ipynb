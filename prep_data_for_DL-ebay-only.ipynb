{
 "cells": [
  {
   "cell_type": "markdown",
   "metadata": {},
   "source": [
    "# Prepare data\n",
    "\n",
    "This will take imgs from ebay (more than 10 imgs per class), and split them into 8 for training and 2 for validation."
   ]
  },
  {
   "cell_type": "code",
   "execution_count": 8,
   "metadata": {
    "scrolled": true
   },
   "outputs": [],
   "source": [
    "import numpy as np\n",
    "import pandas as pd\n",
    "import os, shutil\n",
    "from tqdm import tqdm, tqdm_notebook"
   ]
  },
  {
   "cell_type": "code",
   "execution_count": 9,
   "metadata": {
    "scrolled": true
   },
   "outputs": [],
   "source": [
    "from subprocess import check_output\n",
    "src_folder        = 'imgs/ebay/'\n",
    "train_folder      = 'data/train'\n",
    "valid_folder = 'data/validation'\n",
    "ext = '.jpg'\n",
    "\n",
    "if not os.path.exists(train_folder):\n",
    "    os.makedirs(train_folder)\n",
    "    \n",
    "if not os.path.exists(valid_folder):\n",
    "    os.makedirs(valid_folder)    "
   ]
  },
  {
   "cell_type": "code",
   "execution_count": 10,
   "metadata": {},
   "outputs": [],
   "source": [
    "categories = [c for c in os.listdir(src_folder) if (os.path.isdir(os.path.join(src_folder, c)) \n",
    "                                                    and len(os.listdir(os.path.join(src_folder, c))) > 10)]"
   ]
  },
  {
   "cell_type": "code",
   "execution_count": 12,
   "metadata": {},
   "outputs": [
    {
     "name": "stdout",
     "output_type": "stream",
     "text": [
      "BEFORE: \n",
      " Src: 2053 files, Train: 0 files, Validation: 0 files\n"
     ]
    }
   ],
   "source": [
    "print (\"BEFORE: \\n Src: {} files, Train: {} files, Validation: {} files\".format(\n",
    "    sum([len(files) for r, d, files in os.walk(src_folder)]), \n",
    "    sum([len(files) for r, d, files in os.walk(train_folder)]), \n",
    "    sum([len(files) for r, d, files in os.walk(valid_folder)]))\n",
    "      )"
   ]
  },
  {
   "cell_type": "markdown",
   "metadata": {},
   "source": [
    "## NOTE: After running the cell below, no coming back - the files are moved. "
   ]
  },
  {
   "cell_type": "code",
   "execution_count": 13,
   "metadata": {
    "scrolled": false
   },
   "outputs": [
    {
     "data": {
      "application/vnd.jupyter.widget-view+json": {
       "model_id": "afc387da4119422b8d16a0ecae4805d4",
       "version_major": 2,
       "version_minor": 0
      },
      "text/html": [
       "<p>Failed to display Jupyter Widget of type <code>HBox</code>.</p>\n",
       "<p>\n",
       "  If you're reading this message in the Jupyter Notebook or JupyterLab Notebook, it may mean\n",
       "  that the widgets JavaScript is still loading. If this message persists, it\n",
       "  likely means that the widgets JavaScript library is either not installed or\n",
       "  not enabled. See the <a href=\"https://ipywidgets.readthedocs.io/en/stable/user_install.html\">Jupyter\n",
       "  Widgets Documentation</a> for setup instructions.\n",
       "</p>\n",
       "<p>\n",
       "  If you're reading this message in another frontend (for example, a static\n",
       "  rendering on GitHub or <a href=\"https://nbviewer.jupyter.org/\">NBViewer</a>),\n",
       "  it may mean that your frontend doesn't currently support widgets.\n",
       "</p>\n"
      ],
      "text/plain": [
       "HBox(children=(IntProgress(value=0, max=26), HTML(value='')))"
      ]
     },
     "metadata": {},
     "output_type": "display_data"
    },
    {
     "name": "stdout",
     "output_type": "stream",
     "text": [
      "Category: Razor_E_Glow_Electric_Scooter\n",
      "Category: Fisher-Price_Laugh_Learn_Jumperoo\n",
      "Category: Razor_Jetts_Adjustable_Skates\n",
      "Category: Disney_Pixar_Cars_3_Willy_s_Butte_Transforming_Track_Set\n",
      "Category: Thomas_Friends_Jumbo_Mega_Playmat_with_Vehicle\n",
      "Category: Radio_Flyer_Wagon\n",
      "Category: VTech_Go_Go_Smart_Wheels_Fire_Command_Rescue_Center\n",
      "Category: LeapFrog_LeapStart_Interactive_Learning_System\n",
      "Category: Marvel_Spider-Man_6_Volt_Ride_On\n",
      "Category: Fisher-Price_Little_People_Pony_Stable\n",
      "Category: Baby_Einstein_Caterpillar_and_Friends_Activity_Gym\n",
      "Category: LeapFrog_Learn_Groove_Musical_Table\n",
      "Category: VTech_2-in-1_Learn_Zoom_Motorbike\n",
      "Category: PAW_Patrol_Air_Patroller_Plane\n",
      "Category: VTech_Sit-to-Stand_Learning_Walker\n",
      "Category: VTech_Alphabet_Apple\n",
      "Category: LeapFrog_Shapes_Sharing_Picnic_Basket\n",
      "Category: Fisher-Price_Kick_and_Play_Piano_Gym\n",
      "Category: Paw_Patrol_Jungle_Rescue_Paw_Terrain_Vehicle\n",
      "Category: Baby_Einstein_Sea_Dreams_Soother\n",
      "Category: VTech_Disney_Minnie_ABC_Fashion_Purse\n",
      "Category: Boon_Flair_Pedestal_High_Chair\n",
      "Category: Radio_Flyer_Fold_2_Go_Trike\n",
      "Category: VTech_Kidizoom_Smartwatch_DX2\n",
      "Category: Fisher-Price_Auto_Rock_n_Play_Sleeper\n",
      "Category: Fisher-Price_Kick_Play_Piano\n",
      "\n"
     ]
    }
   ],
   "source": [
    "for category in tqdm_notebook(categories, total=len(categories)):\n",
    "    print ('Category: {}'.format(category))\n",
    "    src_cat_dir = os.path.join(src_folder, str(category))\n",
    "    train_cat_dir = os.path.join(train_folder, str(category))\n",
    "    valid_cat_dir = os.path.join(valid_folder, str(category))\n",
    "    \n",
    "    # create category directory in train/\n",
    "    if not os.path.exists(train_cat_dir):\n",
    "        os.makedirs(train_cat_dir)\n",
    "    \n",
    "    # create category directory in valid/\n",
    "    if not os.path.exists(valid_cat_dir):\n",
    "        os.makedirs(valid_cat_dir)\n",
    "\n",
    "    # then move files from src to train/\n",
    "    files = [f for f in os.listdir(src_cat_dir) if os.path.isfile(os.path.join(src_cat_dir, f))] \n",
    "    \n",
    "    for i, file in enumerate(np.random.choice(files, 10)):\n",
    "        if i < 8:\n",
    "            shutil.copy(os.path.join(src_cat_dir, file), os.path.join(train_cat_dir, file))\n",
    "        else:\n",
    "            shutil.copy(os.path.join(src_cat_dir, file), os.path.join(valid_cat_dir, file))"
   ]
  },
  {
   "cell_type": "code",
   "execution_count": 15,
   "metadata": {},
   "outputs": [
    {
     "name": "stdout",
     "output_type": "stream",
     "text": [
      "AFTER: \n",
      " Src: 2053 files, Train: 179 files, Validation: 51 files\n"
     ]
    }
   ],
   "source": [
    "print (\"AFTER: \\n Src: {} files, Train: {} files, Validation: {} files\".format(\n",
    "    sum([len(files) for r, d, files in os.walk(src_folder)]), \n",
    "    sum([len(files) for r, d, files in os.walk(train_folder)]), \n",
    "    sum([len(files) for r, d, files in os.walk(valid_folder)]))\n",
    "      )"
   ]
  },
  {
   "cell_type": "code",
   "execution_count": 16,
   "metadata": {},
   "outputs": [
    {
     "data": {
      "application/vnd.jupyter.widget-view+json": {
       "model_id": "0693f09ff4c14b83bf01ae6b89e3d447",
       "version_major": 2,
       "version_minor": 0
      },
      "text/html": [
       "<p>Failed to display Jupyter Widget of type <code>HBox</code>.</p>\n",
       "<p>\n",
       "  If you're reading this message in the Jupyter Notebook or JupyterLab Notebook, it may mean\n",
       "  that the widgets JavaScript is still loading. If this message persists, it\n",
       "  likely means that the widgets JavaScript library is either not installed or\n",
       "  not enabled. See the <a href=\"https://ipywidgets.readthedocs.io/en/stable/user_install.html\">Jupyter\n",
       "  Widgets Documentation</a> for setup instructions.\n",
       "</p>\n",
       "<p>\n",
       "  If you're reading this message in another frontend (for example, a static\n",
       "  rendering on GitHub or <a href=\"https://nbviewer.jupyter.org/\">NBViewer</a>),\n",
       "  it may mean that your frontend doesn't currently support widgets.\n",
       "</p>\n"
      ],
      "text/plain": [
       "HBox(children=(IntProgress(value=0, max=26), HTML(value='')))"
      ]
     },
     "metadata": {},
     "output_type": "display_data"
    },
    {
     "name": "stdout",
     "output_type": "stream",
     "text": [
      "\n"
     ]
    }
   ],
   "source": [
    "df = pd.DataFrame(index=categories)\n",
    "for category in tqdm_notebook(categories, total=len(categories)):\n",
    "    df.loc[category, 'train'] = len(os.listdir(os.path.join(train_folder, str(category))))\n",
    "    df.loc[category, 'valid'] = len(os.listdir(os.path.join(valid_folder, str(category))))"
   ]
  },
  {
   "cell_type": "code",
   "execution_count": 17,
   "metadata": {},
   "outputs": [
    {
     "data": {
      "text/html": [
       "<div>\n",
       "<style scoped>\n",
       "    .dataframe tbody tr th:only-of-type {\n",
       "        vertical-align: middle;\n",
       "    }\n",
       "\n",
       "    .dataframe tbody tr th {\n",
       "        vertical-align: top;\n",
       "    }\n",
       "\n",
       "    .dataframe thead th {\n",
       "        text-align: right;\n",
       "    }\n",
       "</style>\n",
       "<table border=\"1\" class=\"dataframe\">\n",
       "  <thead>\n",
       "    <tr style=\"text-align: right;\">\n",
       "      <th></th>\n",
       "      <th>train</th>\n",
       "      <th>valid</th>\n",
       "    </tr>\n",
       "  </thead>\n",
       "  <tbody>\n",
       "    <tr>\n",
       "      <th>Razor_E_Glow_Electric_Scooter</th>\n",
       "      <td>5.0</td>\n",
       "      <td>2.0</td>\n",
       "    </tr>\n",
       "    <tr>\n",
       "      <th>Fisher-Price_Laugh_Learn_Jumperoo</th>\n",
       "      <td>5.0</td>\n",
       "      <td>2.0</td>\n",
       "    </tr>\n",
       "    <tr>\n",
       "      <th>Razor_Jetts_Adjustable_Skates</th>\n",
       "      <td>5.0</td>\n",
       "      <td>2.0</td>\n",
       "    </tr>\n",
       "    <tr>\n",
       "      <th>Disney_Pixar_Cars_3_Willy_s_Butte_Transforming_Track_Set</th>\n",
       "      <td>7.0</td>\n",
       "      <td>2.0</td>\n",
       "    </tr>\n",
       "    <tr>\n",
       "      <th>Thomas_Friends_Jumbo_Mega_Playmat_with_Vehicle</th>\n",
       "      <td>6.0</td>\n",
       "      <td>2.0</td>\n",
       "    </tr>\n",
       "    <tr>\n",
       "      <th>Radio_Flyer_Wagon</th>\n",
       "      <td>8.0</td>\n",
       "      <td>2.0</td>\n",
       "    </tr>\n",
       "    <tr>\n",
       "      <th>VTech_Go_Go_Smart_Wheels_Fire_Command_Rescue_Center</th>\n",
       "      <td>8.0</td>\n",
       "      <td>2.0</td>\n",
       "    </tr>\n",
       "    <tr>\n",
       "      <th>LeapFrog_LeapStart_Interactive_Learning_System</th>\n",
       "      <td>7.0</td>\n",
       "      <td>2.0</td>\n",
       "    </tr>\n",
       "    <tr>\n",
       "      <th>Marvel_Spider-Man_6_Volt_Ride_On</th>\n",
       "      <td>4.0</td>\n",
       "      <td>2.0</td>\n",
       "    </tr>\n",
       "    <tr>\n",
       "      <th>Fisher-Price_Little_People_Pony_Stable</th>\n",
       "      <td>6.0</td>\n",
       "      <td>2.0</td>\n",
       "    </tr>\n",
       "    <tr>\n",
       "      <th>Baby_Einstein_Caterpillar_and_Friends_Activity_Gym</th>\n",
       "      <td>6.0</td>\n",
       "      <td>2.0</td>\n",
       "    </tr>\n",
       "    <tr>\n",
       "      <th>LeapFrog_Learn_Groove_Musical_Table</th>\n",
       "      <td>6.0</td>\n",
       "      <td>2.0</td>\n",
       "    </tr>\n",
       "    <tr>\n",
       "      <th>VTech_2-in-1_Learn_Zoom_Motorbike</th>\n",
       "      <td>7.0</td>\n",
       "      <td>2.0</td>\n",
       "    </tr>\n",
       "    <tr>\n",
       "      <th>PAW_Patrol_Air_Patroller_Plane</th>\n",
       "      <td>8.0</td>\n",
       "      <td>2.0</td>\n",
       "    </tr>\n",
       "    <tr>\n",
       "      <th>VTech_Sit-to-Stand_Learning_Walker</th>\n",
       "      <td>8.0</td>\n",
       "      <td>2.0</td>\n",
       "    </tr>\n",
       "    <tr>\n",
       "      <th>VTech_Alphabet_Apple</th>\n",
       "      <td>8.0</td>\n",
       "      <td>2.0</td>\n",
       "    </tr>\n",
       "    <tr>\n",
       "      <th>LeapFrog_Shapes_Sharing_Picnic_Basket</th>\n",
       "      <td>8.0</td>\n",
       "      <td>2.0</td>\n",
       "    </tr>\n",
       "    <tr>\n",
       "      <th>Fisher-Price_Kick_and_Play_Piano_Gym</th>\n",
       "      <td>8.0</td>\n",
       "      <td>2.0</td>\n",
       "    </tr>\n",
       "    <tr>\n",
       "      <th>Paw_Patrol_Jungle_Rescue_Paw_Terrain_Vehicle</th>\n",
       "      <td>7.0</td>\n",
       "      <td>2.0</td>\n",
       "    </tr>\n",
       "    <tr>\n",
       "      <th>Baby_Einstein_Sea_Dreams_Soother</th>\n",
       "      <td>8.0</td>\n",
       "      <td>2.0</td>\n",
       "    </tr>\n",
       "    <tr>\n",
       "      <th>VTech_Disney_Minnie_ABC_Fashion_Purse</th>\n",
       "      <td>6.0</td>\n",
       "      <td>1.0</td>\n",
       "    </tr>\n",
       "    <tr>\n",
       "      <th>Boon_Flair_Pedestal_High_Chair</th>\n",
       "      <td>7.0</td>\n",
       "      <td>2.0</td>\n",
       "    </tr>\n",
       "    <tr>\n",
       "      <th>Radio_Flyer_Fold_2_Go_Trike</th>\n",
       "      <td>7.0</td>\n",
       "      <td>2.0</td>\n",
       "    </tr>\n",
       "    <tr>\n",
       "      <th>VTech_Kidizoom_Smartwatch_DX2</th>\n",
       "      <td>8.0</td>\n",
       "      <td>2.0</td>\n",
       "    </tr>\n",
       "    <tr>\n",
       "      <th>Fisher-Price_Auto_Rock_n_Play_Sleeper</th>\n",
       "      <td>8.0</td>\n",
       "      <td>2.0</td>\n",
       "    </tr>\n",
       "    <tr>\n",
       "      <th>Fisher-Price_Kick_Play_Piano</th>\n",
       "      <td>8.0</td>\n",
       "      <td>2.0</td>\n",
       "    </tr>\n",
       "  </tbody>\n",
       "</table>\n",
       "</div>"
      ],
      "text/plain": [
       "                                                    train  valid\n",
       "Razor_E_Glow_Electric_Scooter                         5.0    2.0\n",
       "Fisher-Price_Laugh_Learn_Jumperoo                     5.0    2.0\n",
       "Razor_Jetts_Adjustable_Skates                         5.0    2.0\n",
       "Disney_Pixar_Cars_3_Willy_s_Butte_Transforming_...    7.0    2.0\n",
       "Thomas_Friends_Jumbo_Mega_Playmat_with_Vehicle        6.0    2.0\n",
       "Radio_Flyer_Wagon                                     8.0    2.0\n",
       "VTech_Go_Go_Smart_Wheels_Fire_Command_Rescue_Ce...    8.0    2.0\n",
       "LeapFrog_LeapStart_Interactive_Learning_System        7.0    2.0\n",
       "Marvel_Spider-Man_6_Volt_Ride_On                      4.0    2.0\n",
       "Fisher-Price_Little_People_Pony_Stable                6.0    2.0\n",
       "Baby_Einstein_Caterpillar_and_Friends_Activity_Gym    6.0    2.0\n",
       "LeapFrog_Learn_Groove_Musical_Table                   6.0    2.0\n",
       "VTech_2-in-1_Learn_Zoom_Motorbike                     7.0    2.0\n",
       "PAW_Patrol_Air_Patroller_Plane                        8.0    2.0\n",
       "VTech_Sit-to-Stand_Learning_Walker                    8.0    2.0\n",
       "VTech_Alphabet_Apple                                  8.0    2.0\n",
       "LeapFrog_Shapes_Sharing_Picnic_Basket                 8.0    2.0\n",
       "Fisher-Price_Kick_and_Play_Piano_Gym                  8.0    2.0\n",
       "Paw_Patrol_Jungle_Rescue_Paw_Terrain_Vehicle          7.0    2.0\n",
       "Baby_Einstein_Sea_Dreams_Soother                      8.0    2.0\n",
       "VTech_Disney_Minnie_ABC_Fashion_Purse                 6.0    1.0\n",
       "Boon_Flair_Pedestal_High_Chair                        7.0    2.0\n",
       "Radio_Flyer_Fold_2_Go_Trike                           7.0    2.0\n",
       "VTech_Kidizoom_Smartwatch_DX2                         8.0    2.0\n",
       "Fisher-Price_Auto_Rock_n_Play_Sleeper                 8.0    2.0\n",
       "Fisher-Price_Kick_Play_Piano                          8.0    2.0"
      ]
     },
     "execution_count": 17,
     "metadata": {},
     "output_type": "execute_result"
    }
   ],
   "source": [
    "df"
   ]
  },
  {
   "cell_type": "code",
   "execution_count": null,
   "metadata": {},
   "outputs": [],
   "source": []
  }
 ],
 "metadata": {
  "kernelspec": {
   "display_name": "tensorflow_p36",
   "language": "python",
   "name": "tensorflow_p36"
  }
 },
 "nbformat": 4,
 "nbformat_minor": 2
}
