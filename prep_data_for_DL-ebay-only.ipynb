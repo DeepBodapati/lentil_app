{
 "cells": [
  {
   "cell_type": "markdown",
   "metadata": {},
   "source": [
    "# Prepare data\n",
    "\n",
    "This will take imgs from ebay (more than `min_files_per_category` imgs per class), and split them in the `train_valid_ratio` between training and validation folders"
   ]
  },
  {
   "cell_type": "code",
   "execution_count": 1,
   "metadata": {
    "scrolled": true
   },
   "outputs": [],
   "source": [
    "import numpy as np\n",
    "import pandas as pd\n",
    "import os, shutil, random\n",
    "from tqdm import tqdm, tqdm_notebook"
   ]
  },
  {
   "cell_type": "code",
   "execution_count": 2,
   "metadata": {
    "scrolled": true
   },
   "outputs": [],
   "source": [
    "from subprocess import check_output\n",
    "src_folder        = 'imgs/src'\n",
    "train_folder      = 'data/train'\n",
    "valid_folder = 'data/validation'\n",
    "test_folder = 'imgs/test'\n",
    "train_valid_ratio = 0.8\n",
    "min_files_per_category = 10\n",
    "ext = '.jpg'\n",
    "\n",
    "if not os.path.exists(train_folder):\n",
    "    os.makedirs(train_folder)\n",
    "    \n",
    "if not os.path.exists(valid_folder):\n",
    "    os.makedirs(valid_folder)    "
   ]
  },
  {
   "cell_type": "code",
   "execution_count": 3,
   "metadata": {},
   "outputs": [],
   "source": [
    "all_categories = [c for c in os.listdir(src_folder) if os.path.isdir(os.path.join(src_folder, c))]\n",
    "processed_categories = []"
   ]
  },
  {
   "cell_type": "code",
   "execution_count": 4,
   "metadata": {},
   "outputs": [
    {
     "name": "stdout",
     "output_type": "stream",
     "text": [
      "BEFORE: \n",
      " Src: 2349 files in 49 classes, Train: 0 files in 0 classes, Validation: 0 files in 0 classes, Test: 32 files\n"
     ]
    }
   ],
   "source": [
    "print (\"BEFORE: \\n Src: {} files in {} classes, Train: {} files in {} classes, Validation: {} files in {} classes, Test: {} files\".format(\n",
    "    sum([len(files) for r, d, files in os.walk(src_folder)]),\n",
    "    len(all_categories),\n",
    "    sum([len(files) for r, d, files in os.walk(train_folder)]),\n",
    "    len(processed_categories),\n",
    "    sum([len(files) for r, d, files in os.walk(valid_folder)]),\n",
    "    len(processed_categories),\n",
    "    sum([len(files) for r, d, files in os.walk(test_folder)]))\n",
    "      )"
   ]
  },
  {
   "cell_type": "markdown",
   "metadata": {},
   "source": [
    "## NOTE: After running the cell below, no coming back - the files are moved. "
   ]
  },
  {
   "cell_type": "code",
   "execution_count": 5,
   "metadata": {
    "scrolled": false
   },
   "outputs": [
    {
     "data": {
      "application/vnd.jupyter.widget-view+json": {
       "model_id": "cd4ec7df0a2046c899eb6ab1dad0cee6",
       "version_major": 2,
       "version_minor": 0
      },
      "text/plain": [
       "HBox(children=(IntProgress(value=0, max=49), HTML(value='')))"
      ]
     },
     "metadata": {},
     "output_type": "display_data"
    },
    {
     "name": "stdout",
     "output_type": "stream",
     "text": [
      "Processing category: Razor_E_Glow_Electric_Scooter\n",
      "Ignoring category: Me_Reader_Jr_-_Sesame_Street_Book\n",
      "Processing category: Fisher-Price_Laugh_Learn_Jumperoo\n",
      "Processing category: Razor_Jetts_Adjustable_Skates\n",
      "Ignoring category: Fisher-Price_Laugh_Learn_Around_the_Town_Learning_Table\n",
      "Ignoring category: VTech_Ultimate_Alphabet_Activity_Cube\n",
      "Processing category: kid_ring_stacker\n",
      "Processing category: Disney_Pixar_Cars_3_Willy_s_Butte_Transforming_Track_Set\n",
      "Ignoring category: Little_Tikes_Remote_Control_Bumper_Cars_Set\n",
      "Ignoring category: Huffy_20_inch_Drastic_Green_Machine\n",
      "Processing category: Thomas_Friends_Jumbo_Mega_Playmat_with_Vehicle\n",
      "Processing category: kid_zoo_puzzle\n",
      "Processing category: kid_zoo_sing-along\n",
      "Processing category: kid_mobile_phone\n",
      "Processing category: Radio_Flyer_Wagon\n",
      "Processing category: VTech_Go_Go_Smart_Wheels_Fire_Command_Rescue_Center\n",
      "Ignoring category: Globber_3_Wheel_5-in-1_Scooter\n",
      "Processing category: LeapFrog_LeapStart_Interactive_Learning_System\n",
      "Ignoring category: Imaginarium_5_Way_Activity_Cube\n",
      "Ignoring category: Fisher-Price_Brilliant_Basics_Stroller_Styled_Walker\n",
      "Processing category: Marvel_Spider-Man_6_Volt_Ride_On\n",
      "Ignoring category: Disney_Frozen_Magical_Adventure_Activity_Ride_On\n",
      "Processing category: Fisher-Price_Little_People_Pony_Stable\n",
      "Ignoring category: Yvolution_Y_Velo_Flippa_Tricycle_and_Balance_Bike\n",
      "Processing category: Baby_Einstein_Caterpillar_and_Friends_Activity_Gym\n",
      "Processing category: LeapFrog_Learn_Groove_Musical_Table\n",
      "Processing category: kid_whiteboard_chalkboard\n",
      "Processing category: VTech_2-in-1_Learn_Zoom_Motorbike\n",
      "Processing category: PAW_Patrol_Air_Patroller_Plane\n",
      "Processing category: VTech_Sit-to-Stand_Learning_Walker\n",
      "Processing category: kid_bounceroo\n",
      "Processing category: VTech_Alphabet_Apple\n",
      "Ignoring category: Disney_Pixar_Cars_3_Mack_s_Mobile_Tool_Center_Playset\n",
      "Processing category: LeapFrog_Shapes_Sharing_Picnic_Basket\n",
      "Processing category: Fisher-Price_Kick_and_Play_Piano_Gym\n",
      "Processing category: Paw_Patrol_Jungle_Rescue_Paw_Terrain_Vehicle\n",
      "Ignoring category: LeapFrog_Musical_Rainbow_Tea_Party\n",
      "Ignoring category: Little_Tikes_My_Buddy_Stuffed_Elephant_-_Lalaphant\n",
      "Processing category: Baby_Einstein_Sea_Dreams_Soother\n",
      "Processing category: kid_pink_unicorn\n",
      "Processing category: VTech_Disney_Minnie_ABC_Fashion_Purse\n",
      "Processing category: Boon_Flair_Pedestal_High_Chair\n",
      "Processing category: Radio_Flyer_Fold_2_Go_Trike\n",
      "Processing category: VTech_Kidizoom_Smartwatch_DX2\n",
      "Processing category: Fisher-Price_Auto_Rock_n_Play_Sleeper\n",
      "Ignoring category: Fisher-Price_Zoom_n_Crawl_Monster_Toy\n",
      "Ignoring category: Disney_Pixar_Finding_Dory_Learning_Game\n",
      "Processing category: kid_shopping_cart\n",
      "Ignoring category: SmarTrike_Breeze_3_in_1_Trike_-_Multi_Color\n",
      "\n"
     ]
    }
   ],
   "source": [
    "for category in tqdm_notebook(all_categories, total=len(all_categories)):\n",
    "    src_cat_dir = os.path.join(src_folder, str(category))\n",
    "    files = [f for f in os.listdir(src_cat_dir) if os.path.isfile(os.path.join(src_cat_dir, f))]\n",
    "\n",
    "    if len(files) < min_files_per_category:\n",
    "        print ('Ignoring category: {}'.format(category))\n",
    "        continue\n",
    "\n",
    "    else:\n",
    "        print ('Processing category: {}'.format(category))\n",
    "        processed_categories.extend([category])\n",
    "        train_cat_dir = os.path.join(train_folder, str(category))\n",
    "        valid_cat_dir = os.path.join(valid_folder, str(category))\n",
    "        test_cat_dir = os.path.join(test_folder, str(category))\n",
    "\n",
    "        # create category directory in train/\n",
    "        if not os.path.exists(train_cat_dir):\n",
    "            os.makedirs(train_cat_dir)\n",
    "\n",
    "        # create category directory in valid/\n",
    "        if not os.path.exists(valid_cat_dir):\n",
    "            os.makedirs(valid_cat_dir)\n",
    "\n",
    "        # then move files from src to train/ and valid/\n",
    "        random.shuffle(files)\n",
    "        for i, file in enumerate(files):\n",
    "            if i < train_valid_ratio * len(files):\n",
    "                shutil.copy(os.path.join(src_cat_dir, file), os.path.join(train_cat_dir, file))\n",
    "            else:\n",
    "                shutil.copy(os.path.join(src_cat_dir, file), os.path.join(valid_cat_dir, file))\n",
    "\n",
    "        # finally, if there are any test images for this category, move them to validation folder as well\n",
    "        # if os.path.exists(test_cat_dir):\n",
    "        #    files = [f for f in os.listdir(test_cat_dir) if os.path.isfile(os.path.join(test_cat_dir, f))]\n",
    "        #    for file in files:\n",
    "        #        shutil.copy(os.path.join(test_cat_dir, file), os.path.join(valid_cat_dir, file))"
   ]
  },
  {
   "cell_type": "code",
   "execution_count": 6,
   "metadata": {},
   "outputs": [
    {
     "name": "stdout",
     "output_type": "stream",
     "text": [
      "AFTER: \n",
      " Src: 2349 files in 49 classes, Train: 1725 files in 33 classes, Validation: 418 files in 33 classes, Test: 32 files\n"
     ]
    }
   ],
   "source": [
    "print (\"AFTER: \\n Src: {} files in {} classes, Train: {} files in {} classes, Validation: {} files in {} classes, Test: {} files\".format(\n",
    "    sum([len(files) for r, d, files in os.walk(src_folder)]),\n",
    "    len(all_categories),\n",
    "    sum([len(files) for r, d, files in os.walk(train_folder)]),\n",
    "    len(processed_categories),\n",
    "    sum([len(files) for r, d, files in os.walk(valid_folder)]),\n",
    "    len(processed_categories),\n",
    "    sum([len(files) for r, d, files in os.walk(test_folder)]))\n",
    "      )"
   ]
  },
  {
   "cell_type": "code",
   "execution_count": 7,
   "metadata": {},
   "outputs": [
    {
     "data": {
      "application/vnd.jupyter.widget-view+json": {
       "model_id": "4ef7373e943f402b87d5c55fc986d293",
       "version_major": 2,
       "version_minor": 0
      },
      "text/plain": [
       "HBox(children=(IntProgress(value=0, max=33), HTML(value='')))"
      ]
     },
     "metadata": {},
     "output_type": "display_data"
    },
    {
     "name": "stdout",
     "output_type": "stream",
     "text": [
      "\n"
     ]
    }
   ],
   "source": [
    "df = pd.DataFrame(index=processed_categories)\n",
    "for category in tqdm_notebook(processed_categories, total=len(processed_categories)):\n",
    "    df.loc[category, 'train'] = len(os.listdir(os.path.join(train_folder, str(category))))\n",
    "    df.loc[category, 'valid'] = len(os.listdir(os.path.join(valid_folder, str(category))))"
   ]
  },
  {
   "cell_type": "code",
   "execution_count": 8,
   "metadata": {},
   "outputs": [
    {
     "data": {
      "text/html": [
       "<div>\n",
       "<style>\n",
       "    .dataframe thead tr:only-child th {\n",
       "        text-align: right;\n",
       "    }\n",
       "\n",
       "    .dataframe thead th {\n",
       "        text-align: left;\n",
       "    }\n",
       "\n",
       "    .dataframe tbody tr th {\n",
       "        vertical-align: top;\n",
       "    }\n",
       "</style>\n",
       "<table border=\"1\" class=\"dataframe\">\n",
       "  <thead>\n",
       "    <tr style=\"text-align: right;\">\n",
       "      <th></th>\n",
       "      <th>train</th>\n",
       "      <th>valid</th>\n",
       "    </tr>\n",
       "  </thead>\n",
       "  <tbody>\n",
       "    <tr>\n",
       "      <th>Razor_E_Glow_Electric_Scooter</th>\n",
       "      <td>12.0</td>\n",
       "      <td>3.0</td>\n",
       "    </tr>\n",
       "    <tr>\n",
       "      <th>Fisher-Price_Laugh_Learn_Jumperoo</th>\n",
       "      <td>8.0</td>\n",
       "      <td>2.0</td>\n",
       "    </tr>\n",
       "    <tr>\n",
       "      <th>Razor_Jetts_Adjustable_Skates</th>\n",
       "      <td>8.0</td>\n",
       "      <td>2.0</td>\n",
       "    </tr>\n",
       "    <tr>\n",
       "      <th>kid_ring_stacker</th>\n",
       "      <td>13.0</td>\n",
       "      <td>3.0</td>\n",
       "    </tr>\n",
       "    <tr>\n",
       "      <th>Disney_Pixar_Cars_3_Willy_s_Butte_Transforming_Track_Set</th>\n",
       "      <td>8.0</td>\n",
       "      <td>2.0</td>\n",
       "    </tr>\n",
       "    <tr>\n",
       "      <th>Thomas_Friends_Jumbo_Mega_Playmat_with_Vehicle</th>\n",
       "      <td>9.0</td>\n",
       "      <td>2.0</td>\n",
       "    </tr>\n",
       "    <tr>\n",
       "      <th>kid_zoo_puzzle</th>\n",
       "      <td>15.0</td>\n",
       "      <td>3.0</td>\n",
       "    </tr>\n",
       "    <tr>\n",
       "      <th>kid_zoo_sing-along</th>\n",
       "      <td>16.0</td>\n",
       "      <td>4.0</td>\n",
       "    </tr>\n",
       "    <tr>\n",
       "      <th>kid_mobile_phone</th>\n",
       "      <td>13.0</td>\n",
       "      <td>3.0</td>\n",
       "    </tr>\n",
       "    <tr>\n",
       "      <th>Radio_Flyer_Wagon</th>\n",
       "      <td>512.0</td>\n",
       "      <td>127.0</td>\n",
       "    </tr>\n",
       "    <tr>\n",
       "      <th>VTech_Go_Go_Smart_Wheels_Fire_Command_Rescue_Center</th>\n",
       "      <td>26.0</td>\n",
       "      <td>6.0</td>\n",
       "    </tr>\n",
       "    <tr>\n",
       "      <th>LeapFrog_LeapStart_Interactive_Learning_System</th>\n",
       "      <td>31.0</td>\n",
       "      <td>7.0</td>\n",
       "    </tr>\n",
       "    <tr>\n",
       "      <th>Marvel_Spider-Man_6_Volt_Ride_On</th>\n",
       "      <td>8.0</td>\n",
       "      <td>2.0</td>\n",
       "    </tr>\n",
       "    <tr>\n",
       "      <th>Fisher-Price_Little_People_Pony_Stable</th>\n",
       "      <td>13.0</td>\n",
       "      <td>3.0</td>\n",
       "    </tr>\n",
       "    <tr>\n",
       "      <th>Baby_Einstein_Caterpillar_and_Friends_Activity_Gym</th>\n",
       "      <td>10.0</td>\n",
       "      <td>2.0</td>\n",
       "    </tr>\n",
       "    <tr>\n",
       "      <th>LeapFrog_Learn_Groove_Musical_Table</th>\n",
       "      <td>74.0</td>\n",
       "      <td>18.0</td>\n",
       "    </tr>\n",
       "    <tr>\n",
       "      <th>kid_whiteboard_chalkboard</th>\n",
       "      <td>22.0</td>\n",
       "      <td>5.0</td>\n",
       "    </tr>\n",
       "    <tr>\n",
       "      <th>VTech_2-in-1_Learn_Zoom_Motorbike</th>\n",
       "      <td>10.0</td>\n",
       "      <td>2.0</td>\n",
       "    </tr>\n",
       "    <tr>\n",
       "      <th>PAW_Patrol_Air_Patroller_Plane</th>\n",
       "      <td>72.0</td>\n",
       "      <td>18.0</td>\n",
       "    </tr>\n",
       "    <tr>\n",
       "      <th>VTech_Sit-to-Stand_Learning_Walker</th>\n",
       "      <td>84.0</td>\n",
       "      <td>20.0</td>\n",
       "    </tr>\n",
       "    <tr>\n",
       "      <th>kid_bounceroo</th>\n",
       "      <td>30.0</td>\n",
       "      <td>7.0</td>\n",
       "    </tr>\n",
       "    <tr>\n",
       "      <th>VTech_Alphabet_Apple</th>\n",
       "      <td>190.0</td>\n",
       "      <td>47.0</td>\n",
       "    </tr>\n",
       "    <tr>\n",
       "      <th>LeapFrog_Shapes_Sharing_Picnic_Basket</th>\n",
       "      <td>116.0</td>\n",
       "      <td>29.0</td>\n",
       "    </tr>\n",
       "    <tr>\n",
       "      <th>Fisher-Price_Kick_and_Play_Piano_Gym</th>\n",
       "      <td>96.0</td>\n",
       "      <td>24.0</td>\n",
       "    </tr>\n",
       "    <tr>\n",
       "      <th>Paw_Patrol_Jungle_Rescue_Paw_Terrain_Vehicle</th>\n",
       "      <td>28.0</td>\n",
       "      <td>6.0</td>\n",
       "    </tr>\n",
       "    <tr>\n",
       "      <th>Baby_Einstein_Sea_Dreams_Soother</th>\n",
       "      <td>104.0</td>\n",
       "      <td>25.0</td>\n",
       "    </tr>\n",
       "    <tr>\n",
       "      <th>kid_pink_unicorn</th>\n",
       "      <td>13.0</td>\n",
       "      <td>3.0</td>\n",
       "    </tr>\n",
       "    <tr>\n",
       "      <th>VTech_Disney_Minnie_ABC_Fashion_Purse</th>\n",
       "      <td>15.0</td>\n",
       "      <td>3.0</td>\n",
       "    </tr>\n",
       "    <tr>\n",
       "      <th>Boon_Flair_Pedestal_High_Chair</th>\n",
       "      <td>16.0</td>\n",
       "      <td>4.0</td>\n",
       "    </tr>\n",
       "    <tr>\n",
       "      <th>Radio_Flyer_Fold_2_Go_Trike</th>\n",
       "      <td>42.0</td>\n",
       "      <td>10.0</td>\n",
       "    </tr>\n",
       "    <tr>\n",
       "      <th>VTech_Kidizoom_Smartwatch_DX2</th>\n",
       "      <td>33.0</td>\n",
       "      <td>8.0</td>\n",
       "    </tr>\n",
       "    <tr>\n",
       "      <th>Fisher-Price_Auto_Rock_n_Play_Sleeper</th>\n",
       "      <td>54.0</td>\n",
       "      <td>13.0</td>\n",
       "    </tr>\n",
       "    <tr>\n",
       "      <th>kid_shopping_cart</th>\n",
       "      <td>24.0</td>\n",
       "      <td>5.0</td>\n",
       "    </tr>\n",
       "  </tbody>\n",
       "</table>\n",
       "</div>"
      ],
      "text/plain": [
       "                                                    train  valid\n",
       "Razor_E_Glow_Electric_Scooter                        12.0    3.0\n",
       "Fisher-Price_Laugh_Learn_Jumperoo                     8.0    2.0\n",
       "Razor_Jetts_Adjustable_Skates                         8.0    2.0\n",
       "kid_ring_stacker                                     13.0    3.0\n",
       "Disney_Pixar_Cars_3_Willy_s_Butte_Transforming_...    8.0    2.0\n",
       "Thomas_Friends_Jumbo_Mega_Playmat_with_Vehicle        9.0    2.0\n",
       "kid_zoo_puzzle                                       15.0    3.0\n",
       "kid_zoo_sing-along                                   16.0    4.0\n",
       "kid_mobile_phone                                     13.0    3.0\n",
       "Radio_Flyer_Wagon                                   512.0  127.0\n",
       "VTech_Go_Go_Smart_Wheels_Fire_Command_Rescue_Ce...   26.0    6.0\n",
       "LeapFrog_LeapStart_Interactive_Learning_System       31.0    7.0\n",
       "Marvel_Spider-Man_6_Volt_Ride_On                      8.0    2.0\n",
       "Fisher-Price_Little_People_Pony_Stable               13.0    3.0\n",
       "Baby_Einstein_Caterpillar_and_Friends_Activity_Gym   10.0    2.0\n",
       "LeapFrog_Learn_Groove_Musical_Table                  74.0   18.0\n",
       "kid_whiteboard_chalkboard                            22.0    5.0\n",
       "VTech_2-in-1_Learn_Zoom_Motorbike                    10.0    2.0\n",
       "PAW_Patrol_Air_Patroller_Plane                       72.0   18.0\n",
       "VTech_Sit-to-Stand_Learning_Walker                   84.0   20.0\n",
       "kid_bounceroo                                        30.0    7.0\n",
       "VTech_Alphabet_Apple                                190.0   47.0\n",
       "LeapFrog_Shapes_Sharing_Picnic_Basket               116.0   29.0\n",
       "Fisher-Price_Kick_and_Play_Piano_Gym                 96.0   24.0\n",
       "Paw_Patrol_Jungle_Rescue_Paw_Terrain_Vehicle         28.0    6.0\n",
       "Baby_Einstein_Sea_Dreams_Soother                    104.0   25.0\n",
       "kid_pink_unicorn                                     13.0    3.0\n",
       "VTech_Disney_Minnie_ABC_Fashion_Purse                15.0    3.0\n",
       "Boon_Flair_Pedestal_High_Chair                       16.0    4.0\n",
       "Radio_Flyer_Fold_2_Go_Trike                          42.0   10.0\n",
       "VTech_Kidizoom_Smartwatch_DX2                        33.0    8.0\n",
       "Fisher-Price_Auto_Rock_n_Play_Sleeper                54.0   13.0\n",
       "kid_shopping_cart                                    24.0    5.0"
      ]
     },
     "execution_count": 8,
     "metadata": {},
     "output_type": "execute_result"
    }
   ],
   "source": [
    "df"
   ]
  },
  {
   "cell_type": "code",
   "execution_count": null,
   "metadata": {},
   "outputs": [],
   "source": []
  }
 ],
 "metadata": {
  "kernelspec": {
   "display_name": "tensorflow_p36",
   "language": "python",
   "name": "tensorflow_p36"
  },
  "language_info": {
   "codemirror_mode": {
    "name": "ipython",
    "version": 3
   },
   "file_extension": ".py",
   "mimetype": "text/x-python",
   "name": "python",
   "nbconvert_exporter": "python",
   "pygments_lexer": "ipython3",
   "version": "3.6.3"
  }
 },
 "nbformat": 4,
 "nbformat_minor": 2
}
